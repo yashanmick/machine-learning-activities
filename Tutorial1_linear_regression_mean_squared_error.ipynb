{
 "cells": [
  {
   "cell_type": "code",
   "execution_count": 1,
   "metadata": {},
   "outputs": [],
   "source": [
    "import numpy as np\n",
    "import matplotlib.pyplot as plt"
   ]
  },
  {
   "cell_type": "code",
   "execution_count": 2,
   "metadata": {},
   "outputs": [],
   "source": [
    "#The dataset can be found on this link -> https://www.kaggle.com/mirichoi0218/insurance "
    "train_data = np.genfromtxt('dataset.csv', delimiter=',', skip_header = 1)\n",
    "#train_data = np.delete(train_data, 0,0)"
   ]
  },
  {
   "cell_type": "code",
   "execution_count": 3,
   "metadata": {
    "collapsed": true
   },
   "outputs": [
    {
     "data": {
      "text/plain": [
       "array([[17.14,  2.4 ],\n",
       "       [16.64,  2.52],\n",
       "       [17.6 ,  2.54],\n",
       "       [16.85,  2.74],\n",
       "       [16.93,  2.83],\n",
       "       [16.7 ,  2.91],\n",
       "       [17.64,  3.  ],\n",
       "       [17.64,  3.  ],\n",
       "       [17.92,  3.01],\n",
       "       [18.5 ,  3.01],\n",
       "       [17.35,  3.02],\n",
       "       [17.75,  3.07],\n",
       "       [17.35,  3.08],\n",
       "       [17.12,  3.08],\n",
       "       [17.73,  3.12],\n",
       "       [18.72,  3.17],\n",
       "       [17.55,  3.17],\n",
       "       [16.74,  3.17],\n",
       "       [18.42,  3.17],\n",
       "       [17.86,  3.19],\n",
       "       [17.61,  3.19],\n",
       "       [17.22,  3.19],\n",
       "       [16.63,  3.2 ],\n",
       "       [16.87,  3.21],\n",
       "       [19.74,  3.24],\n",
       "       [18.26,  3.28],\n",
       "       [17.87,  3.28],\n",
       "       [18.21,  3.28],\n",
       "       [20.2 ,  3.28],\n",
       "       [17.94,  3.28],\n",
       "       [17.69,  3.28],\n",
       "       [19.34,  3.28],\n",
       "       [17.75,  3.29],\n",
       "       [18.55,  3.29],\n",
       "       [18.8 ,  3.29],\n",
       "       [18.49,  3.31],\n",
       "       [18.08,  3.32],\n",
       "       [19.54,  3.34],\n",
       "       [17.77,  3.37],\n",
       "       [18.31,  3.37],\n",
       "       [18.65,  3.37],\n",
       "       [18.5 ,  3.38],\n",
       "       [19.66,  3.38],\n",
       "       [17.02,  3.39],\n",
       "       [19.9 ,  3.39],\n",
       "       [19.25,  3.4 ],\n",
       "       [18.24,  3.4 ],\n",
       "       [19.56,  3.4 ],\n",
       "       [18.57,  3.41],\n",
       "       [19.79,  3.41],\n",
       "       [18.02,  3.41],\n",
       "       [18.55,  3.42],\n",
       "       [19.07,  3.42],\n",
       "       [16.34,  3.42],\n",
       "       [18.79,  3.44],\n",
       "       [18.87,  3.47],\n",
       "       [17.3 ,  3.47],\n",
       "       [19.53,  3.47],\n",
       "       [17.81,  3.47],\n",
       "       [18.91,  3.48],\n",
       "       [19.64,  3.49],\n",
       "       [18.08,  3.49],\n",
       "       [18.93,  3.5 ],\n",
       "       [20.41,  3.51],\n",
       "       [18.93,  3.51],\n",
       "       [18.32,  3.52],\n",
       "       [18.5 ,  3.52],\n",
       "       [19.34,  3.54],\n",
       "       [18.61,  3.58],\n",
       "       [19.31,  3.58],\n",
       "       [19.33,  3.59],\n",
       "       [17.78,  3.59],\n",
       "       [19.75,  3.6 ],\n",
       "       [19.34,  3.6 ],\n",
       "       [20.21,  3.61],\n",
       "       [20.15,  3.62],\n",
       "       [19.97,  3.64],\n",
       "       [20.2 ,  3.65],\n",
       "       [18.43,  3.71],\n",
       "       [19.36,  3.71],\n",
       "       [18.1 ,  3.71],\n",
       "       [19.87,  3.73],\n",
       "       [19.62,  3.76],\n",
       "       [20.5 ,  3.81]])"
      ]
     },
     "execution_count": 3,
     "metadata": {},
     "output_type": "execute_result"
    }
   ],
   "source": [
    "train_data"
   ]
  },
  {
   "cell_type": "code",
   "execution_count": 4,
   "metadata": {},
   "outputs": [],
   "source": [
    "x =  train_data[:,0]\n",
    "y =  train_data[:,1]"
   ]
  },
  {
   "cell_type": "code",
   "execution_count": 5,
   "metadata": {},
   "outputs": [
    {
     "name": "stdout",
     "output_type": "stream",
     "text": [
      "m =  0.17989290468639363\n",
      "c =  0.00988579231737737\n"
     ]
    }
   ],
   "source": [
    "m = 0\n",
    "c = 0 \n",
    "\n",
    "L = 0.0001 #Learning rate \n",
    "iterations = 1000\n",
    "\n",
    "n = float(len(x))\n",
    "\n",
    "for i in range(iterations):\n",
    "    y_pred = m*x + c\n",
    "    D_m = (-1/n) * sum(x * (y - y_pred))\n",
    "    D_c = (-2/n) * sum(y - y_pred)\n",
    "    m = m - L * D_m\n",
    "    c = c - L * D_c\n",
    "    \n",
    "print(\"m = \", m)\n",
    "print(\"c = \", c)"
   ]
  },
  {
   "cell_type": "code",
   "execution_count": 6,
   "metadata": {},
   "outputs": [
    {
     "data": {
      "image/png": "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\n",
      "text/plain": [
       "<Figure size 432x288 with 1 Axes>"
      ]
     },
     "metadata": {
      "needs_background": "light"
     },
     "output_type": "display_data"
    }
   ],
   "source": [
    "y_pred = m*x + c\n",
    "\n",
    "plt.scatter(x, y)\n",
    "plt.plot([min(x), max(x)], [min(y_pred), max(y_pred)], color='green')\n",
    "plt.show()"
   ]
  },
  {
   "cell_type": "code",
   "execution_count": null,
   "metadata": {},
   "outputs": [],
   "source": []
  }
 ],
 "metadata": {
  "kernelspec": {
   "display_name": "Python 3",
   "language": "python",
   "name": "python3"
  },
  "language_info": {
   "codemirror_mode": {
    "name": "ipython",
    "version": 3
   },
   "file_extension": ".py",
   "mimetype": "text/x-python",
   "name": "python",
   "nbconvert_exporter": "python",
   "pygments_lexer": "ipython3",
   "version": "3.6.8"
  }
 },
 "nbformat": 4,
 "nbformat_minor": 2
}
